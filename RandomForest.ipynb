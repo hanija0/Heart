{
  "nbformat": 4,
  "nbformat_minor": 0,
  "metadata": {
    "colab": {
      "provenance": []
    },
    "kernelspec": {
      "name": "python3",
      "display_name": "Python 3"
    },
    "language_info": {
      "name": "python"
    }
  },
  "cells": [
    {
      "cell_type": "code",
      "execution_count": null,
      "metadata": {
        "id": "aUHF1S74JnLb"
      },
      "outputs": [],
      "source": [
        "import pandas as pd\n",
        "from sklearn.linear_model import LogisticRegression\n",
        "from sklearn.model_selection import train_test_split\n",
        "from sklearn.metrics import accuracy_score, classification_report,confusion_matrix\n",
        "import numpy as np\n",
        "df=pd.read_csv('/content/drive/MyDrive/data_cardiovascular_risk.csv')\n",
        "df.head()"
      ]
    },
    {
      "cell_type": "code",
      "source": [
        "X=df.drop(['TenYearCHD'],axis=1)\n",
        "y=df['TenYearCHD']"
      ],
      "metadata": {
        "id": "oKP523ODJoBZ"
      },
      "execution_count": null,
      "outputs": []
    },
    {
      "cell_type": "code",
      "source": [
        "df.dropna()"
      ],
      "metadata": {
        "id": "vXKBcfQ7Jq7T"
      },
      "execution_count": null,
      "outputs": []
    },
    {
      "cell_type": "code",
      "source": [
        "from sklearn.preprocessing import LabelEncoder\n",
        "\n",
        "le = LabelEncoder()\n",
        "X['sex'] = le.fit_transform(X['sex'])  # 'F' -> 0, 'M' -> 1 (or vice versa)\n",
        "X['is_smoking'] = le.fit_transform(X['is_smoking'])\n"
      ],
      "metadata": {
        "id": "5bAxB_PpJstH"
      },
      "execution_count": null,
      "outputs": []
    },
    {
      "cell_type": "code",
      "source": [
        "print(X.isnull().sum())  # Shows the number of missing values per column\n"
      ],
      "metadata": {
        "id": "3Jv8Dxs-Jud9"
      },
      "execution_count": null,
      "outputs": []
    },
    {
      "cell_type": "code",
      "source": [
        "from sklearn.impute import SimpleImputer\n",
        "\n",
        "imputer = SimpleImputer(strategy=\"mean\")  # Use \"median\" if preferred\n",
        "X = pd.DataFrame(imputer.fit_transform(X), columns=X.columns)\n"
      ],
      "metadata": {
        "id": "Ac93vaQSJwNG"
      },
      "execution_count": null,
      "outputs": []
    },
    {
      "cell_type": "code",
      "source": [
        "from imblearn.over_sampling import SMOTE\n",
        "\n",
        "smote=SMOTE(sampling_strategy='minority')\n",
        "X,y=smote.fit_resample(X,y)\n",
        "y.value_counts()\n"
      ],
      "metadata": {
        "id": "QbV-r9olJxne"
      },
      "execution_count": null,
      "outputs": []
    },
    {
      "cell_type": "code",
      "source": [
        "from sklearn.ensemble import RandomForestClassifier\n",
        "model=RandomForestClassifier()\n",
        "model.fit(X_train,y_train)\n",
        "y_pred=model.predict(X_test)\n",
        "print(accuracy_score(y_test,y_pred))\n",
        "print(classification_report(y_test,y_pred))"
      ],
      "metadata": {
        "id": "Hq-Ei3m6J0PL"
      },
      "execution_count": null,
      "outputs": []
    }
  ]
}